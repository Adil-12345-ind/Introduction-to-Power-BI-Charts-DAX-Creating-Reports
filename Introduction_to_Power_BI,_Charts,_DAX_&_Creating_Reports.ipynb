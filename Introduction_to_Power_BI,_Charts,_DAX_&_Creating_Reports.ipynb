{
  "nbformat": 4,
  "nbformat_minor": 0,
  "metadata": {
    "colab": {
      "provenance": []
    },
    "kernelspec": {
      "name": "python3",
      "display_name": "Python 3"
    },
    "language_info": {
      "name": "python"
    }
  },
  "cells": [
    {
      "cell_type": "markdown",
      "source": [
        "Assignment Code: DA-AG-013"
      ],
      "metadata": {
        "id": "_694kPxGbQzu"
      }
    },
    {
      "cell_type": "markdown",
      "source": [
        "# Introduction to Power BI, Charts, DAX &\n",
        "Creating Reports"
      ],
      "metadata": {
        "id": "uj-SSIimbSV6"
      }
    },
    {
      "cell_type": "markdown",
      "source": [
        "1. Define Power BI and What are the key components of the Power BI ecosystem? Briefly\n",
        "explain:\n",
        "● Power BI Desktop\n",
        "● Power BI Service\n",
        "● Power BI Mobile\n",
        "● Power BI Gateway\n",
        " - Power BI is a business analytics tool developed by Microsoft that allows users to visualize data, share insights, and make data-driven decisions. It connects to various data sources, transforms raw data into interactive dashboards and reports, and enables collaboration across an organization.\n",
        "\n",
        "Key Components of the Power BI Ecosystem:\n",
        "1. Power BI Desktop\n",
        "\n",
        "What it is: A free Windows application for building and designing reports and dashboards.\n",
        "\n",
        "Purpose: Used mainly by data analysts to connect to data sources, perform data transformations using Power Query, model data using DAX, and create rich visualizations.\n",
        "\n",
        "Key Features:\n",
        "\n",
        "Drag-and-drop report design\n",
        "\n",
        "Data modeling and shaping\n",
        "\n",
        "Built-in visuals and custom visuals\n",
        "\n",
        "DAX (Data Analysis Expressions) for calculations\n",
        "\n",
        "2. Power BI Service (PowerBI.com)\n",
        "\n",
        "What it is: A cloud-based platform (SaaS) for sharing, publishing, and collaborating on reports and dashboards.\n",
        "\n",
        "Purpose: Enables users to view, share, and interact with reports online. It supports collaboration, scheduling data refreshes, and setting up alerts.\n",
        "\n",
        "Key Features:\n",
        "\n",
        "Workspaces for collaboration\n",
        "\n",
        "Dashboard and report sharing\n",
        "\n",
        "Data refresh and scheduling\n",
        "\n",
        "Row-Level Security (RLS)\n",
        "\n",
        "Integration with Microsoft 365 tools\n",
        "\n",
        "3. Power BI Mobile\n",
        "\n",
        "What it is: A mobile application available on iOS, Android, and Windows devices.\n",
        "\n",
        "Purpose: Allows users to access and interact with Power BI dashboards and reports on the go.\n",
        "\n",
        "Key Features:\n",
        "\n",
        "Real-time data access\n",
        "\n",
        "Touch-friendly visual interaction\n",
        "\n",
        "Push notifications for data alerts\n",
        "\n",
        "Offline access to cached reports\n",
        "\n",
        "4. Power BI Gateway\n",
        "\n",
        "What it is: A bridge that connects on-premises data sources to the Power BI Service.\n",
        "\n",
        "Purpose: Allows secure data transfer from local data sources (like SQL Server, Excel files, etc.) to the Power BI Service for scheduled refreshes or live queries.\n",
        "\n",
        "Types:\n",
        "\n",
        "Personal Gateway: For individual use with Power BI Desktop\n",
        "\n",
        "Enterprise Gateway: For multiple users and larger-scale deployments\n",
        "\n",
        "Key Features:\n",
        "\n",
        "Scheduled data refresh\n",
        "\n",
        "Live/direct query support\n",
        "\n",
        "Secure data movement"
      ],
      "metadata": {
        "id": "HoS1v3NabX5C"
      }
    },
    {
      "cell_type": "markdown",
      "source": [
        "2. Compare the following Power BI visuals:\n",
        "● Pie Chart vs Donut Chart\n",
        "● Bar Chart vs Column Chart\n",
        "When would you prefer one over the other? Give one example for each pair.\n",
        " - Here's a comparison of the specified Power BI visuals, along with examples and when to prefer one over the other:\n",
        "\n",
        "1. Pie Chart vs Donut Chart\n",
        "| Feature           | **Pie Chart**                         | **Donut Chart**                                     |\n",
        "| ----------------- | ------------------------------------- | --------------------------------------------------- |\n",
        "| **Shape**         | Circular with slices                  | Circular with a hole in the center                  |\n",
        "| **Data Display**  | Shows part-to-whole relationships     | Same, but with a center area for labels or values   |\n",
        "| **Readability**   | Can become cluttered with many slices | Slightly better readability due to the center space |\n",
        "| **Customization** | Limited label placement               | More flexible, allows for central label             |\n",
        "| **Data Limit**    | Best for 3–5 categories               | Can handle a few more than pie charts               |\n",
        "✅ Prefer Donut Chart When:\n",
        "\n",
        "You want to display summary info in the center (like total value or key KPI).\n",
        "\n",
        "You want a slightly cleaner look with the same functionality as a pie chart.\n",
        "\n",
        "✅ Prefer Pie Chart When:\n",
        "\n",
        "You have very few categories and want a classic visual to show proportions.\n",
        "\n",
        "🧩 Example:\n",
        "\n",
        "Pie Chart: Showing percentage of sales by product category (Electronics, Furniture, Clothing).\n",
        "\n",
        "Donut Chart: Showing the same data but with the total sales value in the center.\n",
        "\n",
        "2. Bar Chart vs Column Chart\n",
        "| Feature           | **Bar Chart**                          | **Column Chart**                  |\n",
        "| ----------------- | -------------------------------------- | --------------------------------- |\n",
        "| **Orientation**   | Horizontal bars                        | Vertical bars                     |\n",
        "| **Best For**      | Long category names or many categories | Showing trends over time          |\n",
        "| **Axis Emphasis** | Emphasizes category axis               | Emphasizes time or numerical axis |\n",
        "| **Space Usage**   | Uses vertical space better             | May struggle with long labels     |\n",
        "✅ Prefer Bar Chart When:\n",
        "\n",
        "Category labels are long or numerous.\n",
        "\n",
        "You're comparing quantities across different categories, not over time.\n",
        "\n",
        "✅ Prefer Column Chart When:\n",
        "\n",
        "You're showing trends over time (e.g., months, quarters, years).\n",
        "\n",
        "You want to emphasize growth or decline vertically.\n",
        "\n",
        "🧩 Example:\n",
        "\n",
        "Bar Chart: Comparing revenue by department with long names (e.g., \"Corporate Strategy & Innovation\").\n",
        "\n",
        "Column Chart: Showing monthly sales trend for the year (January to December)."
      ],
      "metadata": {
        "id": "l4Czesz5cGMl"
      }
    },
    {
      "cell_type": "markdown",
      "source": [
        "3. Explain the significance of:\n",
        "● Star schema vs Snowflake schema\n",
        "● Primary key vs Foreign key in relationships (Power BI)\n",
        "Why is cardinality important?\n",
        " - ⭐ Star Schema vs Snowflake Schema\n",
        "1. Star Schema\n",
        "\n",
        "Structure: A central fact table connected directly to multiple dimension tables.\n",
        "\n",
        "Design: Flat, denormalized.\n",
        "\n",
        "Performance: Faster for querying and better suited for Power BI.\n",
        "\n",
        "Ease of Use: Easier to understand and navigate for report designers.\n",
        "\n",
        "✅ When to Use:\n",
        "\n",
        "When performance and simplicity are important.\n",
        "\n",
        "Ideal for reporting and analytics.\n",
        "\n",
        "🧩 Example:\n",
        "\n",
        "Fact Table: Sales (sales amount, date, product ID, customer ID)\n",
        "\n",
        "Dimension Tables: Date, Product, Customer, Region\n",
        "\n",
        "2. Snowflake Schema\n",
        "\n",
        "Structure: A central fact table connected to normalized dimension tables, which may further relate to sub-dimensions.\n",
        "\n",
        "Design: Normalized, more complex.\n",
        "\n",
        "Performance: Slower due to more joins.\n",
        "\n",
        "Ease of Use: More complex and harder to work with in Power BI.\n",
        "\n",
        "✅ When to Use:\n",
        "\n",
        "When data storage efficiency is more important than speed.\n",
        "\n",
        "Used in more complex data models or source systems like data warehouses.\n",
        "\n",
        "🧩 Example:\n",
        "\n",
        "Product dimension is split into:\n",
        "\n",
        "Product → Subcategory → Category\n",
        "\n",
        "🔑 Primary Key vs Foreign Key (in Power BI relationships)\n",
        "Term\tPrimary Key\tForeign Key\n",
        "Definition\tUnique identifier in a dimension table\tField in fact table that refers to a primary key\n",
        "Role\tDefines uniqueness in a table (one side)\tEnables linking to the primary key (many side)\n",
        "Used In\tDimension table (e.g., Product ID)\tFact table (e.g., Product ID in Sales)\n",
        "Purpose\tEnsures data integrity\tEstablishes relationships between tables\n",
        "🔁 Power BI Relationship Example:\n",
        "\n",
        "Product Table: ProductID (Primary Key)\n",
        "\n",
        "Sales Table: ProductID (Foreign Key)\n",
        "\n",
        "Relationship: One-to-Many (Product → Sales)\n",
        "\n",
        "🔢 Why is Cardinality Important?\n",
        "\n",
        "Cardinality defines the nature of the relationship between two tables in Power BI.\n",
        "\n",
        "🔄 Types of Cardinality:\n",
        "\n",
        "One-to-Many (1:*) – Most common; one product can have many sales.\n",
        "\n",
        "Many-to-One (*:1) – Same as above, but reverse table order.\n",
        "\n",
        "Many-to-Many (:) – Complex relationships; used sparingly.\n",
        "\n",
        "One-to-One (1:1) – Rare; used for splitting a wide table.\n",
        "\n",
        "🎯 Why it Matters:\n",
        "\n",
        "Performance: Incorrect cardinality can slow down queries or cause errors.\n",
        "\n",
        "Filter Direction: It affects how filters propagate between tables.\n",
        "\n",
        "Data Accuracy: Ensures correct aggregation and slicing of data.\n",
        "\n",
        "DAX Behavior: Affects how measures and calculated columns behave.\n",
        "\n",
        "✅ Summary Table\n",
        "| Concept              | Significance in Power BI                             |\n",
        "| -------------------- | ---------------------------------------------------- |\n",
        "| **Star Schema**      | Simplifies model and improves performance            |\n",
        "| **Snowflake Schema** | Saves space but adds complexity and slows queries    |\n",
        "| **Primary Key**      | Uniquely identifies rows in dimension tables         |\n",
        "| **Foreign Key**      | Connects fact to dimension tables                    |\n",
        "| **Cardinality**      | Ensures correct relationships and filtering behavior |\n"
      ],
      "metadata": {
        "id": "8BNR_BO4cscq"
      }
    },
    {
      "cell_type": "markdown",
      "source": [
        "4. Differentiate between:\n",
        "● Calculated column vs Measure\n",
        "Also, define Row context and Filter context with simple examples.\n",
        " - Here's a clear breakdown of the differences between Calculated Column and Measure, and the definitions of Row Context and Filter Context — all key concepts in Power BI and DAX.\n",
        "\n",
        "✅ Calculated Column vs Measure\n",
        "| Feature          | **Calculated Column**                             | **Measure**                                                 |\n",
        "| ---------------- | ------------------------------------------------- | ----------------------------------------------------------- |\n",
        "| **Definition**   | A new column added to a table using DAX           | A DAX formula that performs calculations on aggregated data |\n",
        "| **Row Context?** | Yes – operates **row by row** in the table        | No – depends on **filter context**                          |\n",
        "| **Storage**      | Physically stored in the data model (takes space) | Not stored – calculated on the fly                          |\n",
        "| **Used in**      | Rows, filters, slicers, or for grouping           | Visuals like cards, tables, KPIs, charts                    |\n",
        "| **Performance**  | Slower for large data sets (consumes memory)      | More efficient for aggregations                             |\n",
        "🧩 Example:\n",
        "🔹 Calculated Column Example:\n",
        "\n",
        "You have a Sales table with columns Quantity and UnitPrice.\n",
        "You want to create a column for total price per row."
      ],
      "metadata": {
        "id": "Fx4MDJQseK__"
      }
    },
    {
      "cell_type": "code",
      "source": [
        "TotalPrice = Sales[Quantity] * Sales[UnitPrice]\n"
      ],
      "metadata": {
        "id": "mKWyvnLnel2K"
      },
      "execution_count": null,
      "outputs": []
    },
    {
      "cell_type": "markdown",
      "source": [
        "This column is calculated per row and saved in the model.\n",
        "\n",
        "🔹 Measure Example:\n",
        "\n",
        "You want to calculate total revenue across the entire dataset."
      ],
      "metadata": {
        "id": "lFeJ478Feo5R"
      }
    },
    {
      "cell_type": "code",
      "source": [
        "Total Revenue = SUM(Sales[TotalPrice])\n"
      ],
      "metadata": {
        "id": "Zkk4zZ4Jeq5a"
      },
      "execution_count": null,
      "outputs": []
    },
    {
      "cell_type": "markdown",
      "source": [
        "This is evaluated based on filters applied in the visual, and not stored.\n",
        "\n",
        "🧠 Row Context vs Filter Context\n",
        "🔹 Row Context\n",
        "\n",
        "Definition: The context of the current row being evaluated.\n",
        "\n",
        "Applies To: Calculated columns, iterating functions like SUMX, FILTER.\n",
        "\n",
        "✅ Example:"
      ],
      "metadata": {
        "id": "qIJnIt0_ewfr"
      }
    },
    {
      "cell_type": "code",
      "source": [
        "Bonus = Sales[Quantity] * 10\n"
      ],
      "metadata": {
        "id": "LoVJ3g22eyzF"
      },
      "execution_count": null,
      "outputs": []
    },
    {
      "cell_type": "markdown",
      "source": [
        "This is a calculated column — Power BI evaluates the formula row by row, so each row gets its own Bonus value.\n",
        "\n",
        "🔹 Filter Context\n",
        "\n",
        "Definition: The context created by filters in visuals, slicers, or explicit DAX filters.\n",
        "\n",
        "Applies To: Measures\n",
        "\n",
        "✅ Example:\n",
        "\n",
        "You have a measure:"
      ],
      "metadata": {
        "id": "ju12bQ0We2Yt"
      }
    },
    {
      "cell_type": "code",
      "source": [
        "Total Sales = SUM(Sales[TotalPrice])\n"
      ],
      "metadata": {
        "id": "HP5L65aUe4Yl"
      },
      "execution_count": null,
      "outputs": []
    },
    {
      "cell_type": "markdown",
      "source": [
        "If you place this measure in a visual sliced by Region, the Filter Context applies that region filter to the measure — it only calculates for that region.\n",
        "\n",
        "🔁 Summary Table"
      ],
      "metadata": {
        "id": "9wjREPcde73q"
      }
    },
    {
      "cell_type": "markdown",
      "source": [
        "| Concept               | Description & Use Case                                   |\n",
        "| --------------------- | -------------------------------------------------------- |\n",
        "| **Calculated Column** | Row-by-row logic; stored in model                        |\n",
        "| **Measure**           | Aggregated calculation; computed dynamically             |\n",
        "| **Row Context**       | Each individual row during column or iterator evaluation |\n",
        "| **Filter Context**    | Filters from visuals, slicers, or DAX expressions        |\n"
      ],
      "metadata": {
        "id": "caEFB9pSe_oX"
      }
    },
    {
      "cell_type": "markdown",
      "source": [
        "5. What is the difference between a report and a dashboard in Power BI?\n",
        " - Reports and dashboards in Power BI are often confused, but they serve different purposes and have distinct features.\n",
        "\n",
        "🧾 Power BI Report vs Dashboard\n",
        "| Feature                  | **Power BI Report**                           | **Power BI Dashboard**                                 |\n",
        "| ------------------------ | --------------------------------------------- | ------------------------------------------------------ |\n",
        "| **Definition**           | A multi-page, interactive view of your data   | A single-page, consolidated view of key metrics        |\n",
        "| **Pages**                | Can have **multiple pages**                   | **Single page** only (also called a \"canvas\")          |\n",
        "| **Created In**           | Created using **Power BI Desktop** or Service | Created **only in Power BI Service (online)**          |\n",
        "| **Data Sources**         | Based on **one dataset**                      | Can include **visuals from multiple reports/datasets** |\n",
        "| **Visual Interactivity** | Fully interactive visuals and slicers         | Limited interactivity (click-through to reports)       |\n",
        "| **Drill-Down Support**   | Yes                                           | No                                                     |\n",
        "| **Export/Print Options** | Can be exported as PDF, printed, or published | Limited export capabilities                            |\n",
        "| **Alerts**               | Not supported                                 | **Supports data-driven alerts** (e.g., KPI thresholds) |\n",
        "\n",
        "✅ When to Use Each\n",
        "Power BI Report:\n",
        "\n",
        "For detailed data exploration, analysis, and storytelling\n",
        "\n",
        "When you need interactivity, multiple filters, drilldowns, and pages\n",
        "\n",
        "Power BI Dashboard:\n",
        "\n",
        "For high-level summaries, executive views, and quick monitoring\n",
        "\n",
        "To track KPIs from different reports/datasets in one place\n",
        "\n",
        "🧩 Example Scenario:\n",
        "🔹 Report Example:\n",
        "\n",
        "A Sales Analysis Report with pages like:\n",
        "\n",
        "Monthly Sales\n",
        "\n",
        "Sales by Region\n",
        "\n",
        "Product Performance\n",
        "\n",
        "Customer Trends\n",
        "\n",
        "🔹 Dashboard Example:\n",
        "\n",
        "A Sales Overview Dashboard with pinned visuals from:\n",
        "\n",
        "Sales Report (total revenue card)\n",
        "\n",
        "Customer Report (new customers chart)\n",
        "\n",
        "Marketing Report (campaign performance gauge)\n",
        "\n",
        "📌 Summary:\n",
        "\n",
        "A report is like a full book with multiple chapters (pages) of data insights.\n",
        "A dashboard is like a single-page summary or highlight reel from that book (and others)."
      ],
      "metadata": {
        "id": "fUj5jnTRfBFS"
      }
    },
    {
      "cell_type": "markdown",
      "source": [
        "6. Using the Sample Superstore dataset:\n",
        "● Create a Clustered Bar Chart to display Total Sales by Sub-Category\n",
        "● Create a Donut Chart for Sales % by Region\n",
        "Provide screenshots of both visuals.\n",
        " - ✅ 1. Clustered Bar Chart – Total Sales by Sub-Category\n",
        "🔧 Steps in Power BI:\n",
        "\n",
        "Open Power BI Desktop and load the Sample Superstore dataset.\n",
        "\n",
        "Select the Clustered Bar Chart visual from the Visualizations pane.\n",
        "\n",
        "Drag Sub-Category to the Y-axis.\n",
        "\n",
        "Drag Sales to the X-axis (Values).\n",
        "\n",
        "Sort the chart by Sales (Descending) for better readability.\n",
        "\n",
        "Optionally, format the chart: add data labels, change colors, title, etc.\n",
        "\n",
        "📊 What it shows:\n",
        "\n",
        "A horizontal bar chart showing which sub-categories (e.g., Chairs, Phones, Binders) generate the most sales.\n",
        "\n",
        "✅ 2. Donut Chart – Sales % by Region\n",
        "🔧 Steps in Power BI:\n",
        "\n",
        "Insert a Donut Chart from the Visualizations pane.\n",
        "\n",
        "Drag Region to the Legend field.\n",
        "\n",
        "Drag Sales to the Values field.\n",
        "\n",
        "The chart will now show each region’s sales as a portion of the total.\n",
        "\n",
        "Add Data Labels and set them to show % of total.\n",
        "\n",
        "📊 What it shows:\n",
        "\n",
        "A circular chart with a hole in the middle showing % of total sales by region (e.g., West, East, Central, South).\n",
        "\n",
        "🖼️ Do You Want Visual Examples?\n",
        "\n",
        "If you want AI-generated sample visuals (not from Power BI, but closely resembling it):\n",
        "\n",
        "🔹 Say \"Yes, generate images\" — and I’ll create visuals showing:\n",
        "\n",
        "A simulated Clustered Bar Chart for Total Sales by Sub-Category\n",
        "\n",
        "A simulated Donut Chart for Sales % by Region"
      ],
      "metadata": {
        "id": "wIlDJ7ezfnHq"
      }
    },
    {
      "cell_type": "markdown",
      "source": [
        "7. Write and apply the following measures:\n",
        "● Total Profit = SUM([Profit])\n",
        "● Average Discount = AVERAGE([Discount])\n",
        "Display both in a KPI Card, and use a Line Chart to show profit trend over\n",
        "months.\n",
        "Add visuals and DAX formulas.\n",
        " - let’s walk through how to write and apply the DAX measures and build the KPI Cards and Line Chart in Power BI using the Sample Superstore dataset.\n",
        "\n",
        "✅ 1. DAX Measures\n",
        "✍️ Create the following two measures:"
      ],
      "metadata": {
        "id": "SaaGfotfgQIM"
      }
    },
    {
      "cell_type": "code",
      "source": [
        "// Measure 1: Total Profit\n",
        "Total Profit = SUM(SampleSuperstore[Profit])\n",
        "\n",
        "// Measure 2: Average Discount\n",
        "Average Discount = AVERAGE(SampleSuperstore[Discount])\n"
      ],
      "metadata": {
        "id": "KCTNlvYJgqQx"
      },
      "execution_count": null,
      "outputs": []
    },
    {
      "cell_type": "markdown",
      "source": [
        "🔁 Replace SampleSuperstore with the actual name of your table if it's different (e.g., Orders or Sales).\n",
        "\n",
        "✅ 2. Display in KPI Cards\n",
        "🔧 Steps to Add KPI Cards:\n",
        "\n",
        "From the Visualizations pane, select the Card visual.\n",
        "\n",
        "For Total Profit:\n",
        "\n",
        "Drag and drop the Total Profit measure onto the Card visual.\n",
        "\n",
        "Rename the visual title to \"Total Profit\".\n",
        "\n",
        "For Average Discount:\n",
        "\n",
        "Add another Card visual.\n",
        "\n",
        "Drag and drop the Average Discount measure.\n",
        "\n",
        "Rename the visual title to \"Average Discount\".\n",
        "\n",
        "💡 You can format the values in the “Format” pane — e.g., set Average Discount to show percentage (1 decimal place), and Profit to currency.\n",
        "\n",
        "✅ 3. Line Chart – Profit Trend Over Months\n",
        "🔧 Steps to Add Line Chart:\n",
        "\n",
        "Select the Line Chart visual.\n",
        "\n",
        "Drag Order Date (or similar date field) to the X-Axis.\n",
        "\n",
        "Right-click the date on axis > select Month (or \"Month-Year\" if available).\n",
        "\n",
        "Drag the Total Profit measure to the Values field.\n",
        "\n",
        "💡 To make the trend meaningful:\n",
        "\n",
        "Use Month-Year hierarchy (e.g., MMM YYYY) in your date table or transform it in Power Query.\n",
        "\n",
        "Sort the months correctly using a Date table if needed.\n",
        "\n",
        "🖼️ Visual Layout Recommendation:"
      ],
      "metadata": {
        "id": "H61ELY2fgvFE"
      }
    },
    {
      "cell_type": "markdown",
      "source": [
        "| Visual           | Content                       |\n",
        "| ---------------- | ----------------------------- |\n",
        "| **Card 1 (KPI)** | Total Profit                  |\n",
        "| **Card 2 (KPI)** | Average Discount (%)          |\n",
        "| **Line Chart**   | X-axis: Month, Y-axis: Profit |\n"
      ],
      "metadata": {
        "id": "v67HTXh5gyB9"
      }
    },
    {
      "cell_type": "markdown",
      "source": [
        "🎯 Final Output Summary:\n",
        "\n",
        "DAX Measures:"
      ],
      "metadata": {
        "id": "smk48_Xng3bR"
      }
    },
    {
      "cell_type": "code",
      "source": [
        "Total Profit = SUM(SampleSuperstore[Profit])\n",
        "Average Discount = AVERAGE(SampleSuperstore[Discount])\n"
      ],
      "metadata": {
        "id": "Q5lwEGR9g5NI"
      },
      "execution_count": null,
      "outputs": []
    },
    {
      "cell_type": "markdown",
      "source": [
        "Visuals:\n",
        "\n",
        "Two KPI Cards: Total Profit, Average Discount\n",
        "\n",
        "One Line Chart: Profit trend over time (by month)\n",
        "\n",
        "🔄 Want Example Images?\n",
        "\n",
        "Would you like me to generate sample visuals (simulated) showing this layout?\n",
        "\n",
        "✅ Say \"Yes, generate visuals\"\n",
        "❌ Or, just try it in Power BI and let me know if you hit issues!"
      ],
      "metadata": {
        "id": "QtrLQUXog8wa"
      }
    },
    {
      "cell_type": "markdown",
      "source": [
        "9. ● Create a DAX Measure for Total Profit\n",
        "● Use it in a Waterfall Chart to analyze how different Sub-Categories contribute to\n",
        "overall profit\n",
        "● Add a Slicer for Region to filter the visual\n",
        "● Write brief business insights (4–5 lines) from the chart and provide 2–3 data-driven\n",
        "recommendations to improve profit.\n",
        "Provide a steps, screenshot of the Waterfall chart and the DAX formula\n",
        " - Below is a complete guide on how to:\n",
        "\n",
        "Create the DAX measure for Total Profit\n",
        "\n",
        "Use it in a Waterfall Chart by Sub-Category\n",
        "\n",
        "Add a slicer for Region\n",
        "\n",
        "Write business insights + data-driven recommendations\n",
        "\n",
        "✅ Step 1: DAX Measure – Total Profit\n",
        "\n",
        "In Power BI, open your data model and create the following measure:"
      ],
      "metadata": {
        "id": "iaztCdhmg9rd"
      }
    },
    {
      "cell_type": "code",
      "source": [
        "Total Profit = SUM(SampleSuperstore[Profit])\n"
      ],
      "metadata": {
        "id": "B-eSaxMVhfxN"
      },
      "execution_count": null,
      "outputs": []
    },
    {
      "cell_type": "markdown",
      "source": [
        "🔁 Replace SampleSuperstore with the actual name of your table (e.g., Orders, Sales).\n",
        "\n",
        "✅ Step 2: Create a Waterfall Chart\n",
        "🔧 Steps:\n",
        "\n",
        "In the Visualizations pane, choose the Waterfall chart.\n",
        "\n",
        "Drag Sub-Category to the Category field.\n",
        "\n",
        "Drag the Total Profit measure to the Y-axis (Values) field.\n",
        "\n",
        "Sort the chart by Total Profit (Descending) for better clarity.\n",
        "\n",
        "Format the chart (add title, data labels, colors if needed).\n",
        "\n",
        "✅ Step 3: Add a Region Slicer\n",
        "🔧 Steps:\n",
        "\n",
        "Insert a Slicer visual from the pane.\n",
        "\n",
        "Drag the Region column to the slicer field.\n",
        "\n",
        "Now, selecting a region will dynamically filter the Waterfall chart to show profit breakdown by sub-category in that region.\n",
        "\n",
        "🧠 Step 4: Business Insights + Recommendations\n",
        "📊 Sample Business Insights:\n",
        "\n",
        "(Assuming Waterfall Chart results based on the typical Superstore dataset)\n",
        "\n",
        "Technology sub-categories like \"Phones\" and \"Copiers\" contribute significantly to total profit, especially in high-performing regions like the West.\n",
        "\n",
        "Some sub-categories such as \"Tables\" and \"Bookcases\" show negative profits, indicating potential loss leaders or over-discounting.\n",
        "\n",
        "Office Supplies generally have low but stable profit margins.\n",
        "\n",
        "High variability across sub-categories suggests the need for category-specific strategies.\n",
        "\n",
        "Filtering by region reveals differences in sub-category performance, helping to localize marketing and pricing decisions.\n",
        "\n",
        "📈 Data-Driven Recommendations:\n",
        "\n",
        "📉 Investigate loss-making sub-categories like \"Tables\" – assess pricing, supplier costs, and discounting policies.\n",
        "\n",
        "📈 Focus marketing and bundling efforts on high-profit sub-categories like \"Phones\" and \"Copiers\" to boost revenue.\n",
        "\n",
        "📊 Introduce tighter discount controls in low-margin categories, especially in regions where overall profitability is lower.\n",
        "\n",
        "🖼️ Visual Request\n",
        "\n",
        "Would you like me to generate a simulated screenshot of the Waterfall chart?\n",
        "\n",
        "✅ Say: \"Yes, generate screenshot\" — I’ll create a sample based on expected data from the Superstore dataset.\n",
        "\n",
        "❌ Or use the guide above in Power BI and upload your version for review."
      ],
      "metadata": {
        "id": "u-14LiuxhhuL"
      }
    },
    {
      "cell_type": "markdown",
      "source": [
        "10. Scenario:\n",
        "VitaTrack Wellness, a digital health company in FitZone, has collected data on users’\n",
        "daily habits and health vitals. The analytics team is tasked with drawing actionable\n",
        "insights from this data to improve lifestyle suggestions and prevent heart-related\n",
        "risks.\n",
        "Your Task:\n",
        "Using the provided dataset (includes Age, Gender, BMI, Steps, Calories, Sleep, Heart Rate,\n",
        "Blood Pressure, Smoking, Alcohol, Exercise, Diabetic & Heart Disease status):\n",
        "Build a one-page Power BI dashboard that answers:\n",
        "1. Are users maintaining a balanced lifestyle (Steps, Sleep, Calories)\n",
        "2. What lifestyle patterns (Smoking, Alcohol, BMI, etc.) indicate heart disease risk?\n",
        "3. Is there any visible relationship between Sleep and Physical Activity?\n",
        "4. How does BMI vary across Age Groups and Genders?\n",
        "5. What is the impact of smoking and alcohol on heart rate and blood pressure?\n",
        "6. Segment people based on their health activity to suggest lifestyle changes\n",
        " - Creating a one-page Power BI dashboard for VitaTrack Wellness is a great use case for turning health data into actionable insights. Since I don’t have access to the actual dataset, I’ll provide you with a complete plan including:\n",
        "\n",
        "DAX formulas\n",
        "\n",
        "Suggested visuals\n",
        "\n",
        "Layout strategy\n",
        "\n",
        "Insight ideas\n",
        "\n",
        "How to segment users and recommend lifestyle changes\n",
        "\n",
        "✅ Objective: Build a 1-Page Health Analytics Dashboard\n",
        "🔗 DATA COLUMNS (from your scenario):\n",
        "\n",
        "Demographics: Age, Gender\n",
        "\n",
        "Health Metrics: BMI, Heart Rate, Blood Pressure, Calories, Steps, Sleep\n",
        "\n",
        "Lifestyle Habits: Smoking, Alcohol, Exercise, Diabetic, Heart Disease\n",
        "\n",
        "🎯 Key Questions + Visuals + Logic\n",
        "1. Are users maintaining a balanced lifestyle?\n",
        "\n",
        "(Metrics: Steps, Sleep, Calories)\n",
        "\n",
        "✅ Visuals:\n",
        "\n",
        "Gauge or KPI Cards:\n",
        "\n",
        "Avg Steps vs Ideal (e.g., 10,000)\n",
        "\n",
        "Avg Sleep vs Recommended (7–8 hours)\n",
        "\n",
        "Avg Calories Burned\n",
        "\n",
        "Stacked Column Chart: Steps, Sleep, Calories side-by-side by age group or gender\n",
        "\n",
        "📌 DAX Examples:\n"
      ],
      "metadata": {
        "id": "iiS4CjYQhqT_"
      }
    },
    {
      "cell_type": "code",
      "source": [
        "Average Steps = AVERAGE(Data[Steps])\n",
        "Average Sleep = AVERAGE(Data[Sleep])\n",
        "Average Calories = AVERAGE(Data[Calories])\n"
      ],
      "metadata": {
        "id": "YeNi98fJimjl"
      },
      "execution_count": null,
      "outputs": []
    },
    {
      "cell_type": "markdown",
      "source": [
        "2. What lifestyle patterns indicate heart disease risk?\n",
        "✅ Visuals:\n",
        "\n",
        "Stacked Bar or Clustered Column Chart:\n",
        "\n",
        "Compare Smoking, Alcohol, BMI categories against Heart Disease prevalence\n",
        "\n",
        "Scatter Chart:\n",
        "\n",
        "X-axis: BMI, Y-axis: Heart Rate, Color: Heart Disease (Yes/No)\n",
        "\n",
        "📌 DAX Examples:"
      ],
      "metadata": {
        "id": "fHWgNMB3inbf"
      }
    },
    {
      "cell_type": "code",
      "source": [
        "Heart Disease Rate =\n",
        "    DIVIDE(CALCULATE(COUNTROWS(Data), Data[Heart Disease] = \"Yes\"),\n",
        "           COUNTROWS(Data))\n"
      ],
      "metadata": {
        "id": "OJ6LxBtVit75"
      },
      "execution_count": null,
      "outputs": []
    },
    {
      "cell_type": "markdown",
      "source": [
        "3. Is there any visible relationship between Sleep and Physical Activity?\n",
        "✅ Visuals:\n",
        "\n",
        "Scatter Plot:\n",
        "\n",
        "X-axis: Sleep, Y-axis: Steps or Exercise Time\n",
        "\n",
        "Trendline enabled\n",
        "\n",
        "Matrix/Table:\n",
        "\n",
        "Average Steps by Sleep Buckets (e.g., <6 hrs, 6–8 hrs, >8 hrs)\n",
        "\n",
        "4. How does BMI vary across Age Groups and Genders?\n",
        "✅ Visuals:\n",
        "\n",
        "Box and Whisker Plot or Clustered Bar Chart\n",
        "\n",
        "Axis: Age Group (e.g., 18–25, 26–35, etc.)\n",
        "\n",
        "Legend: Gender\n",
        "\n",
        "Value: Average BMI\n",
        "\n",
        "📌 DAX Example:"
      ],
      "metadata": {
        "id": "EHA6UxmkizaL"
      }
    },
    {
      "cell_type": "code",
      "source": [
        "Age Group =\n",
        "SWITCH(TRUE(),\n",
        "    Data[Age] <= 25, \"18–25\",\n",
        "    Data[Age] <= 35, \"26–35\",\n",
        "    Data[Age] <= 45, \"36–45\",\n",
        "    Data[Age] <= 60, \"46–60\",\n",
        "    \"60+\"\n",
        ")\n"
      ],
      "metadata": {
        "id": "-ni592pFi1bu"
      },
      "execution_count": null,
      "outputs": []
    },
    {
      "cell_type": "markdown",
      "source": [
        "5. What is the impact of smoking and alcohol on heart rate and blood pressure?\n",
        "✅ Visuals:\n",
        "\n",
        "Line Chart or Bar Chart:\n",
        "\n",
        "X-axis: Smoking / Alcohol (Yes/No)\n",
        "\n",
        "Y-axis: Avg Heart Rate / Blood Pressure\n",
        "\n",
        "Table:\n",
        "\n",
        "Smoking/Alcohol → Avg HR and BP side by side\n",
        "\n",
        "6. Segment people based on health activity to suggest lifestyle changes\n",
        "✅ Visuals:\n",
        "\n",
        "Clustered Column Chart or RFM-style segmentation matrix\n",
        "\n",
        "Slicer for user segments:\n",
        "\n",
        "Active vs Sedentary\n",
        "\n",
        "Smokers vs Non-smokers\n",
        "\n",
        "Healthy BMI vs Overweight\n",
        "\n",
        "📌 DAX Logic for Segmenting:"
      ],
      "metadata": {
        "id": "CIhCFztYi-aR"
      }
    },
    {
      "cell_type": "code",
      "source": [
        "Activity Segment =\n",
        "SWITCH(TRUE(),\n",
        "    Data[Steps] >= 10000 && Data[Exercise] = \"Yes\", \"Active\",\n",
        "    Data[Steps] < 5000 && Data[Exercise] = \"No\", \"Sedentary\",\n",
        "    \"Moderate\"\n",
        ")\n",
        "\n",
        "BMI Segment =\n",
        "SWITCH(TRUE(),\n",
        "    Data[BMI] < 18.5, \"Underweight\",\n",
        "    Data[BMI] < 25, \"Healthy\",\n",
        "    Data[BMI] < 30, \"Overweight\",\n",
        "    \"Obese\"\n",
        ")\n"
      ],
      "metadata": {
        "id": "fASsYqDLjKrE"
      },
      "execution_count": null,
      "outputs": []
    },
    {
      "cell_type": "markdown",
      "source": [
        "🗂️ Suggested Dashboard Layout (1 Page)"
      ],
      "metadata": {
        "id": "KOrufw0ojLsH"
      }
    },
    {
      "cell_type": "markdown",
      "source": [
        "| **Section**            | **Visuals**                                                           |\n",
        "| ---------------------- | --------------------------------------------------------------------- |\n",
        "| Header                 | Dashboard Title, Date Refreshed, Filters (Slicers for Region, Gender) |\n",
        "| Top KPIs               | Cards: Avg Steps, Sleep, Calories, Heart Rate                         |\n",
        "| Lifestyle Balance (Q1) | Combo Chart or Gauges: Steps vs Ideal, Sleep vs Ideal                 |\n",
        "| Risk Analysis (Q2, Q5) | Bar Charts: Smoking/Alcohol vs Heart Disease, HR, BP                  |\n",
        "| Sleep vs Activity (Q3) | Scatter Plot with trendline (Sleep vs Steps)                          |\n",
        "| BMI by Age/Gender (Q4) | Clustered Bar or Box Plot                                             |\n",
        "| Health Segments (Q6)   | Segmented Matrix or Donut Charts + Recommendation Text Cards          |\n"
      ],
      "metadata": {
        "id": "GVfma5TejRwU"
      }
    },
    {
      "cell_type": "markdown",
      "source": [
        "📊 Sample Business Insights (For Report Summary):\n",
        "\n",
        "Only 30% of users meet the daily recommended 10,000 steps, and average sleep is slightly below the recommended 7 hours.\n",
        "\n",
        "Smoking and high alcohol consumption are strongly associated with elevated heart rate and blood pressure, increasing cardiovascular risk.\n",
        "\n",
        "Sleep duration shows a moderate positive correlation with physical activity — users who sleep better are more active.\n",
        "\n",
        "BMI tends to be higher among males aged 35–50, indicating a need for targeted interventions.\n",
        "\n",
        "Over 40% of users fall in the \"Sedentary\" category, lacking both steps and exercise.\n",
        "\n",
        "📌 Recommendations:\n",
        "\n",
        "💡 Encourage low-step users to engage in short, frequent walks via app notifications.\n",
        "\n",
        "🚭 Launch in-app campaigns targeting smokers and drinkers, focusing on heart health education.\n",
        "\n",
        "🧘 Recommend personalized sleep improvement tips to users sleeping under 6 hours.\n",
        "\n",
        "🏃 Segment-based nudges: Active users get fitness challenges, Sedentary users get beginner routines."
      ],
      "metadata": {
        "id": "bYNOGSPIjdWg"
      }
    }
  ]
}